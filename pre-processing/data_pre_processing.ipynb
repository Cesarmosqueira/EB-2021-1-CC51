{
 "cells": [
  {
   "cell_type": "code",
   "execution_count": 1,
   "id": "62b48047",
   "metadata": {},
   "outputs": [],
   "source": [
    "import pandas as pd\n",
    "import json\n",
    "import numpy as np\n",
    "from datetime import datetime"
   ]
  },
  {
   "cell_type": "code",
   "execution_count": 2,
   "id": "b233e2a8",
   "metadata": {},
   "outputs": [],
   "source": [
    "df = pd.read_csv('../data/cleaned_MXvideos_cc50_202101.csv')\n",
    "df['cateogry_description'] = np.nan\n",
    "categories = json.load(open('../data/MX_category_id.json'))"
   ]
  },
  {
   "cell_type": "code",
   "execution_count": 136,
   "id": "b47040bc",
   "metadata": {},
   "outputs": [],
   "source": [
    "get_cat = lambda dc: list(filter(lambda x: x[\"id\"] == str(dc), categories['items']))[0]"
   ]
  },
  {
   "cell_type": "code",
   "execution_count": 137,
   "id": "91804de0",
   "metadata": {},
   "outputs": [],
   "source": [
    "td_format = '%y.%d.%m'\n",
    "pt_format = '%d/%m/%Y'\n",
    "process_date = lambda date, frmat: datetime.strptime(date, frmat).strftime(\"%Y-%m-%d\")"
   ]
  },
  {
   "cell_type": "markdown",
   "id": "70aa8f2a",
   "metadata": {},
   "source": [
    "### Cateogry Description"
   ]
  },
  {
   "cell_type": "code",
   "execution_count": 138,
   "id": "dde31e9d",
   "metadata": {},
   "outputs": [],
   "source": [
    "for index, row in df.iterrows():\n",
    "    try:\n",
    "        ans = get_cat(df.at[index, 'category_id'])['snippet']['title']\n",
    "        df.at[index, 'category_description'] = ans\n",
    "    except: pass"
   ]
  },
  {
   "cell_type": "markdown",
   "id": "1f92b0cc",
   "metadata": {},
   "source": [
    "### Format trending and Publish date"
   ]
  },
  {
   "cell_type": "code",
   "execution_count": 139,
   "id": "f7c20e81",
   "metadata": {
    "scrolled": true
   },
   "outputs": [],
   "source": [
    "for index, row in df.iterrows():\n",
    "    try:\n",
    "        ans = process_date(df.at[index, 'trending_date'], td_format)\n",
    "        df.at[index, 'trending_date'] = ans\n",
    "    except: pass\n",
    "    try:            \n",
    "        ans = process_date(df.at[index, 'publish_time'].split()[0], pt_format)\n",
    "        df.at[index, 'publish_time'] = ans\n",
    "    except: pass"
   ]
  },
  {
   "cell_type": "code",
   "execution_count": 143,
   "id": "dea31977",
   "metadata": {},
   "outputs": [],
   "source": [
    "df.to_csv('../data/cleaned_MXvideos_cc50_202101.csv', index=False)"
   ]
  }
 ],
 "metadata": {
  "kernelspec": {
   "display_name": "Python 3 (ipykernel)",
   "language": "python",
   "name": "python3"
  },
  "language_info": {
   "codemirror_mode": {
    "name": "ipython",
    "version": 3
   },
   "file_extension": ".py",
   "mimetype": "text/x-python",
   "name": "python",
   "nbconvert_exporter": "python",
   "pygments_lexer": "ipython3",
   "version": "3.9.7"
  }
 },
 "nbformat": 4,
 "nbformat_minor": 5
}
