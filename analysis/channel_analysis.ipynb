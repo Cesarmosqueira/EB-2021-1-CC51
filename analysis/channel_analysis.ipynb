{
 "cells": [
  {
   "cell_type": "code",
   "execution_count": 22,
   "id": "7f6c1d2e",
   "metadata": {},
   "outputs": [],
   "source": [
    "import pandas as pd\n",
    "import numpy as np\n",
    "import matplotlib.pyplot as plt"
   ]
  },
  {
   "cell_type": "code",
   "execution_count": 2,
   "id": "4cb83e99",
   "metadata": {},
   "outputs": [],
   "source": [
    "df = pd.read_csv('../data/cleaned_MXvideos_cc50_202101.csv')"
   ]
  },
  {
   "cell_type": "code",
   "execution_count": 3,
   "id": "811d2937",
   "metadata": {},
   "outputs": [
    {
     "data": {
      "text/plain": [
       "Index(['video_id', 'trending_date', 'title', 'channel_title', 'category_id',\n",
       "       'publish_time', 'tags', 'views', 'likes', 'dislikes', 'comment_count',\n",
       "       'thumbnail_link', 'comments_disabled', 'ratings_disabled',\n",
       "       'video_error_or_removed', 'description', 'state', 'lat', 'lon',\n",
       "       'geometry', 'likes.mean', 'dislikes.mean', 'comment_count.mean',\n",
       "       'cateogry_description', 'category_description'],\n",
       "      dtype='object')"
      ]
     },
     "execution_count": 3,
     "metadata": {},
     "output_type": "execute_result"
    }
   ],
   "source": [
    "df.columns"
   ]
  },
  {
   "cell_type": "code",
   "execution_count": 4,
   "id": "20e334c1",
   "metadata": {},
   "outputs": [],
   "source": [
    "channels = df['channel_title'].unique()"
   ]
  },
  {
   "cell_type": "markdown",
   "id": "775e9f67",
   "metadata": {},
   "source": [
    "### chanel trend frecuency measurement: \n",
    "$q$ -> Channel total number of videos \\\n",
    "$v$ -> Channel total number of views \\\n",
    "$t = v/q$"
   ]
  },
  {
   "cell_type": "code",
   "execution_count": 97,
   "id": "9c7786e6",
   "metadata": {},
   "outputs": [],
   "source": [
    "fs = dict(df['channel_title'].value_counts())\n",
    "feature = {}\n",
    "for channel in channels:\n",
    "    feature[channel] = {\n",
    "        'q': fs[channel],\n",
    "        'v': np.nansum(df[df['channel_title'] == channel]['views'])\n",
    "    }"
   ]
  },
  {
   "cell_type": "code",
   "execution_count": 98,
   "id": "1d3931d2",
   "metadata": {},
   "outputs": [],
   "source": [
    "SEARCHES = 5\n",
    "keys = []\n",
    "for _ in range(SEARCHES):\n",
    "    key = max(feature, key=lambda x: feature[x]['v']/feature[x]['q'])\n",
    "    keys.append({key : feature[key]})\n",
    "    del feature[key]"
   ]
  },
  {
   "cell_type": "code",
   "execution_count": 95,
   "id": "3cb7e27d",
   "metadata": {},
   "outputs": [],
   "source": [
    "min_trend = []\n",
    "for trend in keys:\n",
    "    chan = list(trend.keys())[0]\n",
    "    min_trend.append((chan, trend[chan]['v']/trend[chan]['q']))"
   ]
  },
  {
   "cell_type": "code",
   "execution_count": 99,
   "id": "2faea43b",
   "metadata": {},
   "outputs": [],
   "source": [
    "max_trend = []\n",
    "for trend in keys:\n",
    "    chan = list(trend.keys())[0]\n",
    "    max_trend.append((chan, trend[chan]['v']/trend[chan]['q']))"
   ]
  },
  {
   "cell_type": "code",
   "execution_count": 100,
   "id": "11864b9d",
   "metadata": {},
   "outputs": [
    {
     "data": {
      "text/plain": [
       "[('YouTube Spotlight', 36467614.85714286),\n",
       " ('amazon', 34448035.0),\n",
       " ('Kylie Jenner', 32518567.666666668),\n",
       " ('Marvel Entertainment', 20160948.736842107),\n",
       " ('ibighit', 19343545.153846152)]"
      ]
     },
     "execution_count": 100,
     "metadata": {},
     "output_type": "execute_result"
    }
   ],
   "source": [
    "max_trend"
   ]
  },
  {
   "cell_type": "code",
   "execution_count": 112,
   "id": "13a8a569",
   "metadata": {},
   "outputs": [
    {
     "data": {
      "image/png": "[encoded data removed]",
      "text/plain": [
       "<Figure size 800x480 with 1 Axes>"
      ]
     },
     "metadata": {
      "needs_background": "light"
     },
     "output_type": "display_data"
    }
   ],
   "source": [
    "data = min_trend\n",
    "ind = []\n",
    "fre = []\n",
    "plt.figure(figsize=(10, 6), dpi=80)\n",
    "for item in data: \n",
    "    ind.append(item[0])\n",
    "    fre.append(item[1]) \n",
    "    plt.bar(ind, fre) \n",
    "plt.show()\n"
   ]
  },
  {
   "cell_type": "code",
   "execution_count": null,
   "id": "7bc7ff20",
   "metadata": {},
   "outputs": [],
   "source": []
  }
 ],
 "metadata": {
  "kernelspec": {
   "display_name": "Python 3 (ipykernel)",
   "language": "python",
   "name": "python3"
  },
  "language_info": {
   "codemirror_mode": {
    "name": "ipython",
    "version": 3
   },
   "file_extension": ".py",
   "mimetype": "text/x-python",
   "name": "python",
   "nbconvert_exporter": "python",
   "pygments_lexer": "ipython3",
   "version": "3.9.7"
  }
 },
 "nbformat": 4,
 "nbformat_minor": 5
}
